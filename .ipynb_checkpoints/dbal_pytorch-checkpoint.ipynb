{
 "cells": [
  {
   "cell_type": "code",
   "execution_count": 1,
   "metadata": {},
   "outputs": [],
   "source": [
    "import torch\n",
    "import numpy as np\n",
    "from torch import nn\n",
    "from torch.utils.data import DataLoader\n",
    "from torchvision.transforms import ToTensor\n",
    "from torchvision.datasets import MNIST\n",
    "from skorch import NeuralNetClassifier\n",
    "from modAL.models import ActiveLearner"
   ]
  },
  {
   "cell_type": "code",
   "execution_count": 29,
   "metadata": {},
   "outputs": [],
   "source": [
    "class CNN(nn.Module):\n",
    "    def __init__(self,):\n",
    "        super(CNN, self).__init__()\n",
    "        self.convs = nn.Sequential(\n",
    "                                nn.Conv2d(1,32,4),\n",
    "                                nn.ReLU(),\n",
    "                                nn.Conv2d(32,32,4),\n",
    "                                nn.ReLU(),\n",
    "                                nn.MaxPool2d(2),\n",
    "                                nn.Dropout(0.25)\n",
    "        )\n",
    "        self.fcs = nn.Sequential(\n",
    "                                nn.Linear(11*11*32,128),\n",
    "                                nn.ReLU(),\n",
    "                                nn.Dropout(0.5),\n",
    "                                nn.Linear(128,10),\n",
    "        )\n",
    "\n",
    "    def forward(self, x):\n",
    "        out = x\n",
    "        out = self.convs(out)\n",
    "        out = out.view(-1,11*11*32)\n",
    "        out = self.fcs(out)\n",
    "        return out"
   ]
  },
  {
   "cell_type": "markdown",
   "metadata": {},
   "source": [
    "### create the classifier"
   ]
  },
  {
   "cell_type": "code",
   "execution_count": 33,
   "metadata": {},
   "outputs": [],
   "source": [
    "device = \"cuda\" if torch.cuda.is_available() else \"cpu\"\n",
    "classifier = NeuralNetClassifier(CNN,\n",
    "                                 batch_size=128,\n",
    "                                 max_epochs=50,\n",
    "                                 criterion=nn.CrossEntropyLoss,\n",
    "                                 optimizer=torch.optim.Adam,\n",
    "                                 train_split=None,\n",
    "                                 verbose=0,\n",
    "                                 device=device)"
   ]
  },
  {
   "cell_type": "markdown",
   "metadata": {},
   "source": [
    "### read training data"
   ]
  },
  {
   "cell_type": "code",
   "execution_count": 6,
   "metadata": {},
   "outputs": [
    {
     "name": "stderr",
     "output_type": "stream",
     "text": [
      "\r",
      "0it [00:00, ?it/s]"
     ]
    },
    {
     "name": "stdout",
     "output_type": "stream",
     "text": [
      "Downloading http://yann.lecun.com/exdb/mnist/train-images-idx3-ubyte.gz to ./MNIST/raw/train-images-idx3-ubyte.gz\n"
     ]
    },
    {
     "name": "stderr",
     "output_type": "stream",
     "text": [
      "9920512it [00:03, 2906822.66it/s]                            \n"
     ]
    },
    {
     "name": "stdout",
     "output_type": "stream",
     "text": [
      "Extracting ./MNIST/raw/train-images-idx3-ubyte.gz\n"
     ]
    },
    {
     "name": "stderr",
     "output_type": "stream",
     "text": [
      "\r",
      "0it [00:00, ?it/s]"
     ]
    },
    {
     "name": "stdout",
     "output_type": "stream",
     "text": [
      "Downloading http://yann.lecun.com/exdb/mnist/train-labels-idx1-ubyte.gz to ./MNIST/raw/train-labels-idx1-ubyte.gz\n"
     ]
    },
    {
     "name": "stderr",
     "output_type": "stream",
     "text": [
      "32768it [00:00, 42333.82it/s]                           \n",
      "0it [00:00, ?it/s]"
     ]
    },
    {
     "name": "stdout",
     "output_type": "stream",
     "text": [
      "Extracting ./MNIST/raw/train-labels-idx1-ubyte.gz\n",
      "Downloading http://yann.lecun.com/exdb/mnist/t10k-images-idx3-ubyte.gz to ./MNIST/raw/t10k-images-idx3-ubyte.gz\n"
     ]
    },
    {
     "name": "stderr",
     "output_type": "stream",
     "text": [
      "1654784it [00:02, 770061.63it/s]                            \n",
      "0it [00:00, ?it/s]"
     ]
    },
    {
     "name": "stdout",
     "output_type": "stream",
     "text": [
      "Extracting ./MNIST/raw/t10k-images-idx3-ubyte.gz\n",
      "Downloading http://yann.lecun.com/exdb/mnist/t10k-labels-idx1-ubyte.gz to ./MNIST/raw/t10k-labels-idx1-ubyte.gz\n"
     ]
    },
    {
     "name": "stderr",
     "output_type": "stream",
     "text": [
      "8192it [00:00, 15859.84it/s]            \n"
     ]
    },
    {
     "name": "stdout",
     "output_type": "stream",
     "text": [
      "Extracting ./MNIST/raw/t10k-labels-idx1-ubyte.gz\n",
      "Processing...\n",
      "Done!\n"
     ]
    }
   ],
   "source": [
    "mnist_train = MNIST('.', train=True, download=True, transform=ToTensor())\n",
    "mnist_test  = MNIST('.', train=False,download=True, transform=ToTensor())\n",
    "traindataloader = DataLoader(mnist_train, shuffle=True, batch_size=60000)\n",
    "testdataloader  = DataLoader(mnist_test , shuffle=True, batch_size=10000)\n",
    "X_train, y_train = next(iter(traindataloader))\n",
    "X_test , y_test  = next(iter(testdataloader))"
   ]
  },
  {
   "cell_type": "markdown",
   "metadata": {},
   "source": [
    "### preprocessing"
   ]
  },
  {
   "cell_type": "code",
   "execution_count": 38,
   "metadata": {},
   "outputs": [],
   "source": [
    "X_train = X_train.reshape(60000, 1, 28, 28)\n",
    "X_test = X_test.reshape(10000, 1, 28, 28)"
   ]
  },
  {
   "cell_type": "markdown",
   "metadata": {},
   "source": [
    "### initial labelled data\n",
    "We initialize the labelled set with 20 balanced randomly sampled examples"
   ]
  },
  {
   "cell_type": "code",
   "execution_count": 39,
   "metadata": {},
   "outputs": [],
   "source": [
    "initial_idx = np.array([],dtype=np.int)\n",
    "for i in range(10):\n",
    "    idx = np.random.choice(np.where(y_train==i)[0], size=2, replace=False)\n",
    "    initial_idx = np.concatenate((initial_idx, idx))\n",
    "\n",
    "X_initial = X_train[initial_idx]\n",
    "y_initial = y_train[initial_idx]"
   ]
  },
  {
   "cell_type": "markdown",
   "metadata": {},
   "source": [
    "### initial unlabelled pool"
   ]
  },
  {
   "cell_type": "code",
   "execution_count": 40,
   "metadata": {},
   "outputs": [],
   "source": [
    "X_pool = np.delete(X_train, initial_idx, axis=0)\n",
    "y_pool = np.delete(y_train, initial_idx, axis=0)"
   ]
  },
  {
   "cell_type": "markdown",
   "metadata": {},
   "source": [
    "## Query Strategies"
   ]
  },
  {
   "cell_type": "markdown",
   "metadata": {},
   "source": [
    "### Uniform\n",
    "All the acquisition function we will use will be compared to the uniform acquisition function $\\mathbb{U}_{[0,1]}$ which will be our baseline that we would like to beat."
   ]
  },
  {
   "cell_type": "code",
   "execution_count": 12,
   "metadata": {},
   "outputs": [],
   "source": [
    "def uniform(learner, X, n_instances=1):\n",
    "    query_idx = np.random.choice(range(len(X)), size=n_instances, replace=False)\n",
    "    return query_idx, X[query_idx]"
   ]
  },
  {
   "cell_type": "markdown",
   "metadata": {},
   "source": [
    "### Entropy\n",
    "Our first acquisition function is the entropy:\n",
    "$$ \\mathbb{H} = - \\sum_{c} p_c \\log(p_c)$$\n",
    "where $p_c$ is the probability predicted for class c. This is approximated by:\n",
    "\\begin{align}\n",
    "p_c &= \\frac{1}{T} \\sum_t p_{c}^{(t)} \n",
    "\\end{align}\n",
    "where $p_{c}^{t}$ is the probability predicted for class c at the t th feedforward pass."
   ]
  },
  {
   "cell_type": "code",
   "execution_count": 79,
   "metadata": {},
   "outputs": [],
   "source": [
    "# def max_entropy(learner, X, n_instances=1, T=100):\n",
    "#     random_subset = np.random.choice(X.shape[0], 2000, replace=False)\n",
    "#     MC_output = K.function([learner.estimator.model.layers[0].input, K.learning_phase()],\n",
    "#                            [learner.estimator.model.layers[-1].output])\n",
    "#     learning_phase = True\n",
    "#     MC_samples = [MC_output([X[random_subset], learning_phase])[0] for _ in range(T)]\n",
    "#     MC_samples = np.array(MC_samples)  # [#samples x batch size x #classes]\n",
    "#     expected_p = np.mean(MC_samples, axis=0)\n",
    "#     acquisition = - np.sum(expected_p * np.log(expected_p + 1e-10), axis=-1)  # [batch size]\n",
    "#     idx = (-acquisition).argsort()[:n_instances]\n",
    "#     query_idx = random_subset[idx]\n",
    "#     return query_idx, X[query_idx]\n",
    "\n",
    "def max_entropy(learner, X, n_instances=1, T=100):\n",
    "    random_subset = np.random.choice(range(len(X)), size=2000, replace=False)\n",
    "    with torch.no_grad():\n",
    "        outputs = np.stack([learner.estimator.forward(X[random_subset], training=True).cpu().numpy() for t in range(100)])\n",
    "    pc = outputs.mean(axis=0)\n",
    "    acquisition = (-pc*np.log(pc)).sum(axis=-1)\n",
    "    idx = (-acquisition).argsort()[:n_instances]\n",
    "    query_idx = random_subset[idx]\n",
    "    print(query_idx)\n",
    "    return query_idx, X[query_idx]"
   ]
  },
  {
   "cell_type": "markdown",
   "metadata": {},
   "source": [
    "### Active Learning Procedure"
   ]
  },
  {
   "cell_type": "code",
   "execution_count": 80,
   "metadata": {},
   "outputs": [],
   "source": [
    "def active_learning_procedure(query_strategy,\n",
    "                              X_test,\n",
    "                              y_test,\n",
    "                              X_pool,\n",
    "                              y_pool,\n",
    "                              X_initial,\n",
    "                              y_initial,\n",
    "                              estimator,\n",
    "                              n_queries=100,\n",
    "                              n_instances=10):\n",
    "    learner = ActiveLearner(estimator=estimator,\n",
    "                            X_training=X_initial,\n",
    "                            y_training=y_initial,\n",
    "                            query_strategy=query_strategy,\n",
    "                           )\n",
    "    perf_hist = [learner.score(X_test, y_test)]\n",
    "    for index in range(n_queries):\n",
    "        query_idx, query_instance = learner.query(X_pool, n_instances)\n",
    "        learner.teach(X_pool[query_idx], y_pool[query_idx])\n",
    "        X_pool = np.delete(X_pool, query_idx, axis=0)\n",
    "        y_pool = np.delete(y_pool, query_idx, axis=0)\n",
    "        model_accuracy = learner.score(X_test, y_test)\n",
    "        print('Accuracy after query {n}: {acc:0.4f}'.format(n=index + 1, acc=model_accuracy))\n",
    "        perf_hist.append(model_accuracy)\n",
    "    return perf_hist"
   ]
  },
  {
   "cell_type": "code",
   "execution_count": 81,
   "metadata": {},
   "outputs": [
    {
     "name": "stdout",
     "output_type": "stream",
     "text": [
      "(2000,)\n",
      "[52108 46937 38149 25677 23862  1667 35077 20268 35659 31296]\n"
     ]
    },
    {
     "name": "stderr",
     "output_type": "stream",
     "text": [
      "/home/damien/anaconda3/lib/python3.7/site-packages/ipykernel_launcher.py:19: RuntimeWarning: invalid value encountered in log\n"
     ]
    },
    {
     "ename": "NameError",
     "evalue": "name 'subset' is not defined",
     "output_type": "error",
     "traceback": [
      "\u001b[0;31m---------------------------------------------------------------------------\u001b[0m",
      "\u001b[0;31mNameError\u001b[0m                                 Traceback (most recent call last)",
      "\u001b[0;32m<ipython-input-81-7820c8ce2d4d>\u001b[0m in \u001b[0;36m<module>\u001b[0;34m\u001b[0m\n\u001b[1;32m     15\u001b[0m                                               \u001b[0mX_initial\u001b[0m\u001b[0;34m,\u001b[0m\u001b[0;34m\u001b[0m\u001b[0;34m\u001b[0m\u001b[0m\n\u001b[1;32m     16\u001b[0m                                               \u001b[0my_initial\u001b[0m\u001b[0;34m,\u001b[0m\u001b[0;34m\u001b[0m\u001b[0;34m\u001b[0m\u001b[0m\n\u001b[0;32m---> 17\u001b[0;31m                                               estimator,)\n\u001b[0m",
      "\u001b[0;32m<ipython-input-80-141ce54ecef1>\u001b[0m in \u001b[0;36mactive_learning_procedure\u001b[0;34m(query_strategy, X_test, y_test, X_pool, y_pool, X_initial, y_initial, estimator, n_queries, n_instances)\u001b[0m\n\u001b[1;32m     16\u001b[0m     \u001b[0mperf_hist\u001b[0m \u001b[0;34m=\u001b[0m \u001b[0;34m[\u001b[0m\u001b[0mlearner\u001b[0m\u001b[0;34m.\u001b[0m\u001b[0mscore\u001b[0m\u001b[0;34m(\u001b[0m\u001b[0mX_test\u001b[0m\u001b[0;34m,\u001b[0m \u001b[0my_test\u001b[0m\u001b[0;34m)\u001b[0m\u001b[0;34m]\u001b[0m\u001b[0;34m\u001b[0m\u001b[0;34m\u001b[0m\u001b[0m\n\u001b[1;32m     17\u001b[0m     \u001b[0;32mfor\u001b[0m \u001b[0mindex\u001b[0m \u001b[0;32min\u001b[0m \u001b[0mrange\u001b[0m\u001b[0;34m(\u001b[0m\u001b[0mn_queries\u001b[0m\u001b[0;34m)\u001b[0m\u001b[0;34m:\u001b[0m\u001b[0;34m\u001b[0m\u001b[0;34m\u001b[0m\u001b[0m\n\u001b[0;32m---> 18\u001b[0;31m         \u001b[0mquery_idx\u001b[0m\u001b[0;34m,\u001b[0m \u001b[0mquery_instance\u001b[0m \u001b[0;34m=\u001b[0m \u001b[0mlearner\u001b[0m\u001b[0;34m.\u001b[0m\u001b[0mquery\u001b[0m\u001b[0;34m(\u001b[0m\u001b[0mX_pool\u001b[0m\u001b[0;34m,\u001b[0m \u001b[0mn_instances\u001b[0m\u001b[0;34m)\u001b[0m\u001b[0;34m\u001b[0m\u001b[0;34m\u001b[0m\u001b[0m\n\u001b[0m\u001b[1;32m     19\u001b[0m         \u001b[0mlearner\u001b[0m\u001b[0;34m.\u001b[0m\u001b[0mteach\u001b[0m\u001b[0;34m(\u001b[0m\u001b[0mX_pool\u001b[0m\u001b[0;34m[\u001b[0m\u001b[0mquery_idx\u001b[0m\u001b[0;34m]\u001b[0m\u001b[0;34m,\u001b[0m \u001b[0my_pool\u001b[0m\u001b[0;34m[\u001b[0m\u001b[0mquery_idx\u001b[0m\u001b[0;34m]\u001b[0m\u001b[0;34m)\u001b[0m\u001b[0;34m\u001b[0m\u001b[0;34m\u001b[0m\u001b[0m\n\u001b[1;32m     20\u001b[0m         \u001b[0mX_pool\u001b[0m \u001b[0;34m=\u001b[0m \u001b[0mnp\u001b[0m\u001b[0;34m.\u001b[0m\u001b[0mdelete\u001b[0m\u001b[0;34m(\u001b[0m\u001b[0mX_pool\u001b[0m\u001b[0;34m,\u001b[0m \u001b[0mquery_idx\u001b[0m\u001b[0;34m,\u001b[0m \u001b[0maxis\u001b[0m\u001b[0;34m=\u001b[0m\u001b[0;36m0\u001b[0m\u001b[0;34m)\u001b[0m\u001b[0;34m\u001b[0m\u001b[0;34m\u001b[0m\u001b[0m\n",
      "\u001b[0;32m~/anaconda3/lib/python3.7/site-packages/modAL/models/base.py\u001b[0m in \u001b[0;36mquery\u001b[0;34m(self, *query_args, **query_kwargs)\u001b[0m\n\u001b[1;32m    192\u001b[0m             \u001b[0mlabelled\u001b[0m \u001b[0mupon\u001b[0m \u001b[0mquery\u001b[0m \u001b[0msynthesis\u001b[0m\u001b[0;34m.\u001b[0m\u001b[0;34m\u001b[0m\u001b[0;34m\u001b[0m\u001b[0m\n\u001b[1;32m    193\u001b[0m         \"\"\"\n\u001b[0;32m--> 194\u001b[0;31m         \u001b[0mquery_result\u001b[0m \u001b[0;34m=\u001b[0m \u001b[0mself\u001b[0m\u001b[0;34m.\u001b[0m\u001b[0mquery_strategy\u001b[0m\u001b[0;34m(\u001b[0m\u001b[0mself\u001b[0m\u001b[0;34m,\u001b[0m \u001b[0;34m*\u001b[0m\u001b[0mquery_args\u001b[0m\u001b[0;34m,\u001b[0m \u001b[0;34m**\u001b[0m\u001b[0mquery_kwargs\u001b[0m\u001b[0;34m)\u001b[0m\u001b[0;34m\u001b[0m\u001b[0;34m\u001b[0m\u001b[0m\n\u001b[0m\u001b[1;32m    195\u001b[0m         \u001b[0;32mreturn\u001b[0m \u001b[0mquery_result\u001b[0m\u001b[0;34m\u001b[0m\u001b[0;34m\u001b[0m\u001b[0m\n\u001b[1;32m    196\u001b[0m \u001b[0;34m\u001b[0m\u001b[0m\n",
      "\u001b[0;32m<ipython-input-79-d59fd62bcc94>\u001b[0m in \u001b[0;36mmax_entropy\u001b[0;34m(learner, X, n_instances, T)\u001b[0m\n\u001b[1;32m     22\u001b[0m     \u001b[0mquery_idx\u001b[0m \u001b[0;34m=\u001b[0m \u001b[0mrandom_subset\u001b[0m\u001b[0;34m[\u001b[0m\u001b[0midx\u001b[0m\u001b[0;34m]\u001b[0m\u001b[0;34m\u001b[0m\u001b[0;34m\u001b[0m\u001b[0m\n\u001b[1;32m     23\u001b[0m     \u001b[0mprint\u001b[0m\u001b[0;34m(\u001b[0m\u001b[0mquery_idx\u001b[0m\u001b[0;34m)\u001b[0m\u001b[0;34m\u001b[0m\u001b[0;34m\u001b[0m\u001b[0m\n\u001b[0;32m---> 24\u001b[0;31m     \u001b[0;32mreturn\u001b[0m \u001b[0mquery_idx\u001b[0m\u001b[0;34m,\u001b[0m \u001b[0msubset\u001b[0m\u001b[0;34m[\u001b[0m\u001b[0mquery_idx\u001b[0m\u001b[0;34m]\u001b[0m\u001b[0;34m\u001b[0m\u001b[0;34m\u001b[0m\u001b[0m\n\u001b[0m",
      "\u001b[0;31mNameError\u001b[0m: name 'subset' is not defined"
     ]
    }
   ],
   "source": [
    "device = \"cuda\" if torch.cuda.is_available() else \"cpu\"\n",
    "estimator = NeuralNetClassifier(CNN,\n",
    "                                batch_size=128,\n",
    "                                max_epochs=50,\n",
    "                                criterion=nn.CrossEntropyLoss,\n",
    "                                optimizer=torch.optim.Adam,\n",
    "                                train_split=None,\n",
    "                                verbose=0,\n",
    "                                device=device)\n",
    "entropy_perf_hist = active_learning_procedure(max_entropy,\n",
    "                                              X_test,\n",
    "                                              y_test,\n",
    "                                              X_pool,\n",
    "                                              y_pool,\n",
    "                                              X_initial,\n",
    "                                              y_initial,\n",
    "                                              estimator,)"
   ]
  },
  {
   "cell_type": "code",
   "execution_count": null,
   "metadata": {},
   "outputs": [
    {
     "name": "stdout",
     "output_type": "stream",
     "text": [
      "Accuracy after query 1: 0.6332\n",
      "Accuracy after query 2: 0.6325\n",
      "Accuracy after query 3: 0.6904\n",
      "Accuracy after query 4: 0.7181\n",
      "Accuracy after query 5: 0.7429\n",
      "Accuracy after query 6: 0.7495\n",
      "Accuracy after query 7: 0.8042\n",
      "Accuracy after query 8: 0.8146\n",
      "Accuracy after query 9: 0.8141\n",
      "Accuracy after query 10: 0.8302\n",
      "Accuracy after query 11: 0.8099\n",
      "Accuracy after query 12: 0.8548\n",
      "Accuracy after query 13: 0.8605\n",
      "Accuracy after query 14: 0.8622\n",
      "Accuracy after query 15: 0.8892\n",
      "Accuracy after query 16: 0.9025\n",
      "Accuracy after query 17: 0.9018\n",
      "Accuracy after query 18: 0.9002\n",
      "Accuracy after query 19: 0.9096\n",
      "Accuracy after query 20: 0.9196\n",
      "Accuracy after query 21: 0.9287\n",
      "Accuracy after query 22: 0.9332\n",
      "Accuracy after query 23: 0.9337\n",
      "Accuracy after query 24: 0.9071\n",
      "Accuracy after query 25: 0.9371\n",
      "Accuracy after query 26: 0.9262\n",
      "Accuracy after query 27: 0.9338\n",
      "Accuracy after query 28: 0.9376\n",
      "Accuracy after query 29: 0.9387\n",
      "Accuracy after query 30: 0.9358\n",
      "Accuracy after query 31: 0.9484\n",
      "Accuracy after query 32: 0.9457\n",
      "Accuracy after query 33: 0.9460\n",
      "Accuracy after query 34: 0.9534\n",
      "Accuracy after query 35: 0.9534\n",
      "Accuracy after query 36: 0.9554\n",
      "Accuracy after query 37: 0.9369\n",
      "Accuracy after query 38: 0.9604\n",
      "Accuracy after query 39: 0.9566\n",
      "Accuracy after query 40: 0.9542\n",
      "Accuracy after query 41: 0.9602\n",
      "Accuracy after query 42: 0.9581\n"
     ]
    }
   ],
   "source": [
    "estimator = KerasClassifier(create_keras_model)\n",
    "bald_perf_hist = active_learning_procedure(bald,\n",
    "                                           X_test,\n",
    "                                           y_test,\n",
    "                                           X_pool,\n",
    "                                           y_pool,\n",
    "                                           X_initial,\n",
    "                                           y_initial,\n",
    "                                           estimator,)"
   ]
  },
  {
   "cell_type": "code",
   "execution_count": 13,
   "metadata": {},
   "outputs": [
    {
     "name": "stdout",
     "output_type": "stream",
     "text": [
      "Accuracy after query 1: 0.6060\n",
      "Accuracy after query 2: 0.6537\n",
      "Accuracy after query 3: 0.7004\n",
      "Accuracy after query 4: 0.7308\n",
      "Accuracy after query 5: 0.7513\n",
      "Accuracy after query 6: 0.7800\n",
      "Accuracy after query 7: 0.7850\n",
      "Accuracy after query 8: 0.7974\n",
      "Accuracy after query 9: 0.8412\n",
      "Accuracy after query 10: 0.8440\n",
      "Accuracy after query 11: 0.8126\n",
      "Accuracy after query 12: 0.8447\n",
      "Accuracy after query 13: 0.8616\n",
      "Accuracy after query 14: 0.8714\n",
      "Accuracy after query 15: 0.8841\n",
      "Accuracy after query 16: 0.8793\n",
      "Accuracy after query 17: 0.8703\n",
      "Accuracy after query 18: 0.8725\n",
      "Accuracy after query 19: 0.8834\n",
      "Accuracy after query 20: 0.8881\n",
      "Accuracy after query 21: 0.8805\n",
      "Accuracy after query 22: 0.8885\n",
      "Accuracy after query 23: 0.9013\n",
      "Accuracy after query 24: 0.9102\n",
      "Accuracy after query 25: 0.9053\n",
      "Accuracy after query 26: 0.8989\n",
      "Accuracy after query 27: 0.9087\n",
      "Accuracy after query 28: 0.9083\n",
      "Accuracy after query 29: 0.9118\n",
      "Accuracy after query 30: 0.9123\n",
      "Accuracy after query 31: 0.9150\n",
      "Accuracy after query 32: 0.9092\n",
      "Accuracy after query 33: 0.9107\n",
      "Accuracy after query 34: 0.9214\n",
      "Accuracy after query 35: 0.9195\n",
      "Accuracy after query 36: 0.9286\n",
      "Accuracy after query 37: 0.9160\n",
      "Accuracy after query 38: 0.9236\n",
      "Accuracy after query 39: 0.9253\n",
      "Accuracy after query 40: 0.9190\n",
      "Accuracy after query 41: 0.9275\n",
      "Accuracy after query 42: 0.9273\n",
      "Accuracy after query 43: 0.9286\n",
      "Accuracy after query 44: 0.9345\n",
      "Accuracy after query 45: 0.9339\n",
      "Accuracy after query 46: 0.9329\n",
      "Accuracy after query 47: 0.9305\n",
      "Accuracy after query 48: 0.9408\n",
      "Accuracy after query 49: 0.9365\n",
      "Accuracy after query 50: 0.9385\n",
      "Accuracy after query 51: 0.9248\n",
      "Accuracy after query 52: 0.9438\n",
      "Accuracy after query 53: 0.9446\n",
      "Accuracy after query 54: 0.9468\n",
      "Accuracy after query 55: 0.9420\n",
      "Accuracy after query 56: 0.9456\n",
      "Accuracy after query 57: 0.9420\n",
      "Accuracy after query 58: 0.9413\n",
      "Accuracy after query 59: 0.9416\n",
      "Accuracy after query 60: 0.9406\n",
      "Accuracy after query 61: 0.9454\n",
      "Accuracy after query 62: 0.9414\n",
      "Accuracy after query 63: 0.9485\n",
      "Accuracy after query 64: 0.9516\n",
      "Accuracy after query 65: 0.9482\n",
      "Accuracy after query 66: 0.9413\n",
      "Accuracy after query 67: 0.9450\n",
      "Accuracy after query 68: 0.9475\n",
      "Accuracy after query 69: 0.9488\n",
      "Accuracy after query 70: 0.9434\n",
      "Accuracy after query 71: 0.9528\n",
      "Accuracy after query 72: 0.9516\n",
      "Accuracy after query 73: 0.9496\n",
      "Accuracy after query 74: 0.9501\n",
      "Accuracy after query 75: 0.9502\n",
      "Accuracy after query 76: 0.9493\n",
      "Accuracy after query 77: 0.9522\n",
      "Accuracy after query 78: 0.9521\n",
      "Accuracy after query 79: 0.9513\n",
      "Accuracy after query 80: 0.9552\n",
      "Accuracy after query 81: 0.9561\n",
      "Accuracy after query 82: 0.9540\n",
      "Accuracy after query 83: 0.9545\n",
      "Accuracy after query 84: 0.9548\n",
      "Accuracy after query 85: 0.9496\n",
      "Accuracy after query 86: 0.9565\n",
      "Accuracy after query 87: 0.9544\n",
      "Accuracy after query 88: 0.9556\n",
      "Accuracy after query 89: 0.9572\n",
      "Accuracy after query 90: 0.9510\n",
      "Accuracy after query 91: 0.9585\n",
      "Accuracy after query 92: 0.9565\n",
      "Accuracy after query 93: 0.9549\n",
      "Accuracy after query 94: 0.9527\n",
      "Accuracy after query 95: 0.9579\n",
      "Accuracy after query 96: 0.9630\n",
      "Accuracy after query 97: 0.9637\n",
      "Accuracy after query 98: 0.9605\n",
      "Accuracy after query 99: 0.9571\n",
      "Accuracy after query 100: 0.9584\n"
     ]
    }
   ],
   "source": [
    "estimator = KerasClassifier(create_keras_model)\n",
    "uniform_perf_hist = active_learning_procedure(uniform,\n",
    "                                              X_test,\n",
    "                                              y_test,\n",
    "                                              X_pool,\n",
    "                                              y_pool,\n",
    "                                              X_initial,\n",
    "                                              y_initial,\n",
    "                                              estimator,)"
   ]
  },
  {
   "cell_type": "code",
   "execution_count": 19,
   "metadata": {},
   "outputs": [
    {
     "data": {
      "text/plain": [
       "<matplotlib.legend.Legend at 0x7f2ae6f73278>"
      ]
     },
     "execution_count": 19,
     "metadata": {},
     "output_type": "execute_result"
    },
    {
     "data": {
      "image/png": "[encoded data removed]",
      "text/plain": [
       "<Figure size 432x288 with 1 Axes>"
      ]
     },
     "metadata": {},
     "output_type": "display_data"
    }
   ],
   "source": [
    "import matplotlib.pyplot as plt\n",
    "import seaborn as sns\n",
    "sns.set()\n",
    "plt.plot(entropy_perf_hist, label=\"entropy\")\n",
    "plt.plot(uniform_perf_hist, label=\"uniform\")\n",
    "plt.ylim([0.7,1])\n",
    "plt.legend()"
   ]
  },
  {
   "cell_type": "code",
   "execution_count": null,
   "metadata": {},
   "outputs": [],
   "source": []
  },
  {
   "cell_type": "code",
   "execution_count": null,
   "metadata": {},
   "outputs": [],
   "source": []
  }
 ],
 "metadata": {
  "kernelspec": {
   "display_name": "Python 3",
   "language": "python",
   "name": "python3"
  },
  "language_info": {
   "codemirror_mode": {
    "name": "ipython",
    "version": 3
   },
   "file_extension": ".py",
   "mimetype": "text/x-python",
   "name": "python",
   "nbconvert_exporter": "python",
   "pygments_lexer": "ipython3",
   "version": "3.7.2"
  }
 },
 "nbformat": 4,
 "nbformat_minor": 2
}
